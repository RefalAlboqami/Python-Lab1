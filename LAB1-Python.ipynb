{
 "cells": [
  {
   "cell_type": "markdown",
   "id": "6a0c8f5f",
   "metadata": {},
   "source": [
    "TASK1 : Define a variable that has a value of your favorite season."
   ]
  },
  {
   "cell_type": "code",
   "execution_count": 1,
   "id": "2608c869",
   "metadata": {},
   "outputs": [
    {
     "name": "stdout",
     "output_type": "stream",
     "text": [
      "winter\n"
     ]
    }
   ],
   "source": [
    "a = 'winter'\n",
    "print (a)"
   ]
  },
  {
   "cell_type": "markdown",
   "id": "6f043d14",
   "metadata": {},
   "source": [
    "TASK2 : Define “x“ variable has an integer value and variable “y” has a float value."
   ]
  },
  {
   "cell_type": "code",
   "execution_count": 21,
   "id": "eb142e6e",
   "metadata": {},
   "outputs": [
    {
     "name": "stdout",
     "output_type": "stream",
     "text": [
      "<class 'int'> \n",
      " <class 'float'>\n"
     ]
    }
   ],
   "source": [
    "x = 8\n",
    "y = 8.50\n",
    "\n",
    "print (type(x),\"\\n\",type(y))"
   ]
  },
  {
   "cell_type": "markdown",
   "id": "029eb057",
   "metadata": {},
   "source": [
    "TASK3 : Assign One Value to Multiple Variables."
   ]
  },
  {
   "cell_type": "code",
   "execution_count": 18,
   "id": "0bf31860",
   "metadata": {},
   "outputs": [
    {
     "name": "stdout",
     "output_type": "stream",
     "text": [
      "DATA\n",
      "DATA\n",
      "DATA\n"
     ]
    }
   ],
   "source": [
    "a = b = c = \"DATA\"\n",
    "\n",
    "print (a)\n",
    "print (b)\n",
    "print (c)"
   ]
  },
  {
   "cell_type": "markdown",
   "id": "4a90d51a",
   "metadata": {},
   "source": [
    "TASK4 : Assign Many Values to Multiple Variables."
   ]
  },
  {
   "cell_type": "code",
   "execution_count": 19,
   "id": "d5d219fd",
   "metadata": {},
   "outputs": [
    {
     "name": "stdout",
     "output_type": "stream",
     "text": [
      "Data Science By Python\n"
     ]
    }
   ],
   "source": [
    "a,b=\"Data Science\",\"By Python\"\n",
    "\n",
    "print(a,b)"
   ]
  }
 ],
 "metadata": {
  "kernelspec": {
   "display_name": "Python 3 (ipykernel)",
   "language": "python",
   "name": "python3"
  },
  "language_info": {
   "codemirror_mode": {
    "name": "ipython",
    "version": 3
   },
   "file_extension": ".py",
   "mimetype": "text/x-python",
   "name": "python",
   "nbconvert_exporter": "python",
   "pygments_lexer": "ipython3",
   "version": "3.11.5"
  }
 },
 "nbformat": 4,
 "nbformat_minor": 5
}
